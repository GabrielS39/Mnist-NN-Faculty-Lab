{
  "cells": [
    {
      "cell_type": "markdown",
      "metadata": {
        "id": "view-in-github",
        "colab_type": "text"
      },
      "source": [
        "<a href=\"https://colab.research.google.com/github/GabrielS39/Mnist-NN-Faculty-Lab-/blob/main/Mnist_NN.ipynb\" target=\"_parent\"><img src=\"https://colab.research.google.com/assets/colab-badge.svg\" alt=\"Open In Colab\"/></a>"
      ]
    },
    {
      "cell_type": "code",
      "execution_count": 1,
      "metadata": {
        "id": "410c7af5"
      },
      "outputs": [],
      "source": [
        "import tensorflow as tf\n",
        "from tensorflow import keras\n",
        "import matplotlib.pyplot as plt\n",
        "%matplotlib inline\n",
        "import numpy as np\n",
        "import random\n"
      ],
      "id": "410c7af5"
    },
    {
      "cell_type": "code",
      "execution_count": 2,
      "metadata": {
        "colab": {
          "base_uri": "https://localhost:8080/"
        },
        "id": "682bf8fe",
        "outputId": "d9bb9b12-b738-40ee-a705-581ee05e72fb"
      },
      "outputs": [
        {
          "output_type": "stream",
          "name": "stdout",
          "text": [
            "Downloading data from https://storage.googleapis.com/tensorflow/tf-keras-datasets/mnist.npz\n",
            "11490434/11490434 [==============================] - 0s 0us/step\n"
          ]
        }
      ],
      "source": [
        "(X_train, y_train),(X_test, y_test) = keras.datasets.mnist.load_data()"
      ],
      "id": "682bf8fe"
    },
    {
      "cell_type": "code",
      "execution_count": 3,
      "metadata": {
        "colab": {
          "base_uri": "https://localhost:8080/"
        },
        "id": "a688a225",
        "outputId": "136213a5-ca43-4ea3-9c7a-f9c3afcece2b"
      },
      "outputs": [
        {
          "output_type": "execute_result",
          "data": {
            "text/plain": [
              "10000"
            ]
          },
          "metadata": {},
          "execution_count": 3
        }
      ],
      "source": [
        "len(X_test)"
      ],
      "id": "a688a225"
    },
    {
      "cell_type": "code",
      "execution_count": 4,
      "metadata": {
        "id": "77f23599"
      },
      "outputs": [],
      "source": [
        "X_train.shape\n",
        "X_train = X_train/255\n",
        "X_test = X_test/255"
      ],
      "id": "77f23599"
    },
    {
      "cell_type": "code",
      "execution_count": 5,
      "metadata": {
        "colab": {
          "base_uri": "https://localhost:8080/"
        },
        "id": "af7a405d",
        "outputId": "758e3bf6-baa8-4e4b-8ad5-e18d8dd8b9e4"
      },
      "outputs": [
        {
          "output_type": "execute_result",
          "data": {
            "text/plain": [
              "(28, 28)"
            ]
          },
          "metadata": {},
          "execution_count": 5
        }
      ],
      "source": [
        "X_train[0].shape"
      ],
      "id": "af7a405d"
    },
    {
      "cell_type": "code",
      "execution_count": 6,
      "metadata": {
        "colab": {
          "base_uri": "https://localhost:8080/",
          "height": 292
        },
        "id": "bfc9afc0",
        "outputId": "a4c6e852-3fe2-4fd2-915a-a7e60cdf65f8"
      },
      "outputs": [
        {
          "output_type": "execute_result",
          "data": {
            "text/plain": [
              "<matplotlib.image.AxesImage at 0x7f4ec5a0d550>"
            ]
          },
          "metadata": {},
          "execution_count": 6
        },
        {
          "output_type": "display_data",
          "data": {
            "text/plain": [
              "<Figure size 288x288 with 1 Axes>"
            ],
            "image/png": "[encoded data removed]"
          },
          "metadata": {
            "needs_background": "light"
          }
        }
      ],
      "source": [
        "plt.matshow(X_train[random.randrange(0, len(X_train))])"
      ],
      "id": "bfc9afc0"
    },
    {
      "cell_type": "code",
      "execution_count": 7,
      "metadata": {
        "colab": {
          "base_uri": "https://localhost:8080/"
        },
        "id": "0b92d653",
        "outputId": "7fd73542-34af-4f2a-a62f-8c814586ebcb"
      },
      "outputs": [
        {
          "output_type": "execute_result",
          "data": {
            "text/plain": [
              "4"
            ]
          },
          "metadata": {},
          "execution_count": 7
        }
      ],
      "source": [
        "y_train[2]"
      ],
      "id": "0b92d653"
    },
    {
      "cell_type": "code",
      "execution_count": 8,
      "metadata": {
        "colab": {
          "base_uri": "https://localhost:8080/"
        },
        "id": "375e7f6a",
        "outputId": "8beb109e-e93f-4a76-d27d-5ccbaa1db663"
      },
      "outputs": [
        {
          "output_type": "execute_result",
          "data": {
            "text/plain": [
              "array([5, 0, 4, 1, 9, 2, 1, 3, 1], dtype=uint8)"
            ]
          },
          "metadata": {},
          "execution_count": 8
        }
      ],
      "source": [
        "y_train[0:9]"
      ],
      "id": "375e7f6a"
    },
    {
      "cell_type": "code",
      "execution_count": 9,
      "metadata": {
        "id": "f022ef4d"
      },
      "outputs": [],
      "source": [
        "X_train_vect = X_train.reshape(len(X_train), 28*28)"
      ],
      "id": "f022ef4d"
    },
    {
      "cell_type": "code",
      "execution_count": 10,
      "metadata": {
        "colab": {
          "base_uri": "https://localhost:8080/"
        },
        "id": "a01e0a40",
        "outputId": "b633a9ee-5cf5-49b0-94f5-34a71f50e562"
      },
      "outputs": [
        {
          "output_type": "execute_result",
          "data": {
            "text/plain": [
              "array([[0., 0., 0., ..., 0., 0., 0.],\n",
              "       [0., 0., 0., ..., 0., 0., 0.],\n",
              "       [0., 0., 0., ..., 0., 0., 0.],\n",
              "       ...,\n",
              "       [0., 0., 0., ..., 0., 0., 0.],\n",
              "       [0., 0., 0., ..., 0., 0., 0.],\n",
              "       [0., 0., 0., ..., 0., 0., 0.]])"
            ]
          },
          "metadata": {},
          "execution_count": 10
        }
      ],
      "source": [
        "X_train_vect"
      ],
      "id": "a01e0a40"
    },
    {
      "cell_type": "code",
      "execution_count": 11,
      "metadata": {
        "id": "fd262040"
      },
      "outputs": [],
      "source": [
        "X_test_vect = X_test.reshape(len(X_test), 28*28)"
      ],
      "id": "fd262040"
    },
    {
      "cell_type": "code",
      "execution_count": 12,
      "metadata": {
        "colab": {
          "base_uri": "https://localhost:8080/"
        },
        "id": "40536f8d",
        "outputId": "a1bd6d74-91b9-44dd-8640-99b27d2ec71f"
      },
      "outputs": [
        {
          "output_type": "stream",
          "name": "stdout",
          "text": [
            "Epoch 1/10\n",
            "1875/1875 [==============================] - 22s 11ms/step - loss: 0.4652 - accuracy: 0.8789\n",
            "Epoch 2/10\n",
            "1875/1875 [==============================] - 7s 4ms/step - loss: 0.3031 - accuracy: 0.9156\n",
            "Epoch 3/10\n",
            "1875/1875 [==============================] - 3s 2ms/step - loss: 0.2833 - accuracy: 0.9217\n",
            "Epoch 4/10\n",
            "1875/1875 [==============================] - 3s 2ms/step - loss: 0.2729 - accuracy: 0.9247\n",
            "Epoch 5/10\n",
            "1875/1875 [==============================] - 3s 2ms/step - loss: 0.2663 - accuracy: 0.9266\n",
            "Epoch 6/10\n",
            "1875/1875 [==============================] - 3s 2ms/step - loss: 0.2620 - accuracy: 0.9271\n",
            "Epoch 7/10\n",
            "1875/1875 [==============================] - 4s 2ms/step - loss: 0.2580 - accuracy: 0.9292\n",
            "Epoch 8/10\n",
            "1875/1875 [==============================] - 4s 2ms/step - loss: 0.2552 - accuracy: 0.9296\n",
            "Epoch 9/10\n",
            "1875/1875 [==============================] - 4s 2ms/step - loss: 0.2530 - accuracy: 0.9298\n",
            "Epoch 10/10\n",
            "1875/1875 [==============================] - 3s 2ms/step - loss: 0.2511 - accuracy: 0.9307\n"
          ]
        },
        {
          "output_type": "execute_result",
          "data": {
            "text/plain": [
              "<keras.callbacks.History at 0x7f4ec0f050a0>"
            ]
          },
          "metadata": {},
          "execution_count": 12
        }
      ],
      "source": [
        "retea = keras.Sequential([keras.layers.Dense(10, input_shape = (784,), activation = 'sigmoid')])\n",
        "retea.compile(optimizer='adam', loss='sparse_categorical_crossentropy', metrics=['accuracy'])\n",
        "retea.fit(X_train_vect, y_train, epochs=10)"
      ],
      "id": "40536f8d"
    },
    {
      "cell_type": "code",
      "execution_count": 13,
      "metadata": {
        "colab": {
          "base_uri": "https://localhost:8080/"
        },
        "id": "0136557e",
        "outputId": "daf2048b-eb21-4d11-e57f-94a3a39ded19"
      },
      "outputs": [
        {
          "output_type": "stream",
          "name": "stdout",
          "text": [
            "313/313 [==============================] - 1s 1ms/step - loss: 0.2683 - accuracy: 0.9265\n"
          ]
        },
        {
          "output_type": "execute_result",
          "data": {
            "text/plain": [
              "[0.26825597882270813, 0.9265000224113464]"
            ]
          },
          "metadata": {},
          "execution_count": 13
        }
      ],
      "source": [
        "retea.evaluate(X_test_vect, y_test)"
      ],
      "id": "0136557e"
    },
    {
      "cell_type": "code",
      "execution_count": 14,
      "metadata": {
        "colab": {
          "base_uri": "https://localhost:8080/"
        },
        "id": "46e49f62",
        "outputId": "1d5008b9-8c6e-4c32-aa95-93442b27a08f"
      },
      "outputs": [
        {
          "output_type": "stream",
          "name": "stdout",
          "text": [
            "313/313 [==============================] - 0s 1ms/step\n"
          ]
        },
        {
          "output_type": "execute_result",
          "data": {
            "text/plain": [
              "array([3.9624567e-03, 1.9654664e-08, 3.2619145e-02, 9.6375501e-01,\n",
              "       1.7311308e-03, 1.4551553e-01, 3.0416665e-08, 9.9988031e-01,\n",
              "       9.3630023e-02, 5.4659003e-01], dtype=float32)"
            ]
          },
          "metadata": {},
          "execution_count": 14
        }
      ],
      "source": [
        "y_prezis = retea.predict(X_test_vect)\n",
        "y_prezis[0]"
      ],
      "id": "46e49f62"
    },
    {
      "cell_type": "code",
      "execution_count": 15,
      "metadata": {
        "colab": {
          "base_uri": "https://localhost:8080/",
          "height": 292
        },
        "id": "cdd6c415",
        "outputId": "27b98edc-7699-4638-ab97-5571e4a6adfb"
      },
      "outputs": [
        {
          "output_type": "stream",
          "name": "stdout",
          "text": [
            "2\n"
          ]
        },
        {
          "output_type": "display_data",
          "data": {
            "text/plain": [
              "<Figure size 288x288 with 1 Axes>"
            ],
            "image/png": "[encoded data removed]"
          },
          "metadata": {
            "needs_background": "light"
          }
        }
      ],
      "source": [
        "nr_predictie = random.randrange(0, len(X_test))\n",
        "plt.matshow(X_test[nr_predictie])\n",
        "print(np.argmax(y_prezis[nr_predictie]))"
      ],
      "id": "cdd6c415"
    },
    {
      "cell_type": "code",
      "execution_count": 16,
      "metadata": {
        "colab": {
          "base_uri": "https://localhost:8080/"
        },
        "id": "44609d54",
        "outputId": "900bb652-273f-46dd-c9b9-cb010ce5914d"
      },
      "outputs": [
        {
          "output_type": "execute_result",
          "data": {
            "text/plain": [
              "[7, 2, 1, 0, 4]"
            ]
          },
          "metadata": {},
          "execution_count": 16
        }
      ],
      "source": [
        "y_prezis_labels = [np.argmax(i) for i in y_prezis]\n",
        "y_prezis_labels[:5]"
      ],
      "id": "44609d54"
    },
    {
      "cell_type": "code",
      "execution_count": 17,
      "metadata": {
        "id": "d6432f5a"
      },
      "outputs": [],
      "source": [
        "mc = tf.math.confusion_matrix(labels=y_test, predictions=y_prezis_labels)\n",
        "mc\n",
        "import seaborn as sn\n"
      ],
      "id": "d6432f5a"
    },
    {
      "cell_type": "code",
      "execution_count": 17,
      "metadata": {
        "id": "3ad278a4"
      },
      "outputs": [],
      "source": [],
      "id": "3ad278a4"
    },
    {
      "cell_type": "code",
      "execution_count": 18,
      "metadata": {
        "colab": {
          "base_uri": "https://localhost:8080/",
          "height": 592
        },
        "id": "8277c7ca",
        "outputId": "ba0c2abb-0d9e-4daa-f128-e3c63195ec69"
      },
      "outputs": [
        {
          "output_type": "display_data",
          "data": {
            "text/plain": [
              "<Figure size 720x720 with 2 Axes>"
            ],
            "image/png": "[encoded data removed]"
          },
          "metadata": {
            "needs_background": "light"
          }
        }
      ],
      "source": [
        "plt.figure(figsize=(10, 10))\n",
        "sn.heatmap(mc, annot=True, fmt='d')\n",
        "plt.xlabel=('Prezis')\n",
        "plt.ylabel=('Real')\n"
      ],
      "id": "8277c7ca"
    },
    {
      "cell_type": "code",
      "execution_count": 19,
      "metadata": {
        "colab": {
          "base_uri": "https://localhost:8080/"
        },
        "id": "c2e00d61",
        "outputId": "5093b299-23bd-4f7e-f0d8-68ce0a728846"
      },
      "outputs": [
        {
          "output_type": "stream",
          "name": "stdout",
          "text": [
            "Epoch 1/10\n",
            "1875/1875 [==============================] - 6s 3ms/step - loss: 0.3538 - accuracy: 0.9075\n",
            "Epoch 2/10\n",
            "1875/1875 [==============================] - 6s 3ms/step - loss: 0.1300 - accuracy: 0.9622\n",
            "Epoch 3/10\n",
            "1875/1875 [==============================] - 6s 3ms/step - loss: 0.0886 - accuracy: 0.9735\n",
            "Epoch 4/10\n",
            "1875/1875 [==============================] - 6s 3ms/step - loss: 0.0650 - accuracy: 0.9806\n",
            "Epoch 5/10\n",
            "1875/1875 [==============================] - 6s 3ms/step - loss: 0.0504 - accuracy: 0.9849\n",
            "Epoch 6/10\n",
            "1875/1875 [==============================] - 6s 3ms/step - loss: 0.0405 - accuracy: 0.9882\n",
            "Epoch 7/10\n",
            "1875/1875 [==============================] - 6s 3ms/step - loss: 0.0322 - accuracy: 0.9903\n",
            "Epoch 8/10\n",
            "1875/1875 [==============================] - 6s 3ms/step - loss: 0.0260 - accuracy: 0.9923\n",
            "Epoch 9/10\n",
            "1875/1875 [==============================] - 6s 3ms/step - loss: 0.0226 - accuracy: 0.9933\n",
            "Epoch 10/10\n",
            "1875/1875 [==============================] - 6s 3ms/step - loss: 0.0175 - accuracy: 0.9950\n"
          ]
        },
        {
          "output_type": "execute_result",
          "data": {
            "text/plain": [
              "<keras.callbacks.History at 0x7f4eb9162b80>"
            ]
          },
          "metadata": {},
          "execution_count": 19
        }
      ],
      "source": [
        "#hidden layer network\n",
        "retea = keras.Sequential([\n",
        "    keras.layers.Dense(100, input_shape=(28*28,), activation='relu'),\n",
        "    keras.layers.Dense(50, activation='sigmoid'),\n",
        "    keras.layers.Dense(10, activation='softmax')\n",
        "])\n",
        "retea.compile(optimizer='adam', loss='sparse_categorical_crossentropy', metrics=['accuracy'])\n",
        "retea.fit(X_train_vect, y_train, epochs=10)"
      ],
      "id": "c2e00d61"
    },
    {
      "cell_type": "code",
      "execution_count": 20,
      "metadata": {
        "colab": {
          "base_uri": "https://localhost:8080/"
        },
        "id": "be833f26",
        "outputId": "8fd34aeb-4dd4-4797-a2c9-60bbc91bb0f8"
      },
      "outputs": [
        {
          "output_type": "stream",
          "name": "stdout",
          "text": [
            "313/313 [==============================] - 1s 2ms/step - loss: 0.0715 - accuracy: 0.9806\n"
          ]
        },
        {
          "output_type": "execute_result",
          "data": {
            "text/plain": [
              "[0.07153614610433578, 0.9805999994277954]"
            ]
          },
          "metadata": {},
          "execution_count": 20
        }
      ],
      "source": [
        "retea.evaluate(X_test_vect, y_test)"
      ],
      "id": "be833f26"
    },
    {
      "cell_type": "code",
      "execution_count": 21,
      "metadata": {
        "colab": {
          "base_uri": "https://localhost:8080/",
          "height": 609
        },
        "id": "e25d690b",
        "outputId": "89072d6d-a9a5-4b45-df9e-ca714aea0a9f"
      },
      "outputs": [
        {
          "output_type": "stream",
          "name": "stdout",
          "text": [
            "313/313 [==============================] - 1s 2ms/step\n"
          ]
        },
        {
          "output_type": "display_data",
          "data": {
            "text/plain": [
              "<Figure size 720x720 with 2 Axes>"
            ],
            "image/png": "[encoded data removed]"
          },
          "metadata": {
            "needs_background": "light"
          }
        }
      ],
      "source": [
        "y_prezis = retea.predict(X_test_vect)\n",
        "y_prezis_labels = [np.argmax(i) for i in y_prezis]\n",
        "mc = tf.math.confusion_matrix(labels=y_test, predictions=y_prezis_labels)\n",
        "plt.figure(figsize=(10, 10))\n",
        "sn.heatmap(mc, annot=True, fmt='d')\n",
        "plt.xlabel=('Prezis')\n",
        "plt.ylabel=('Real')"
      ],
      "id": "e25d690b"
    },
    {
      "cell_type": "code",
      "execution_count": null,
      "metadata": {
        "colab": {
          "background_save": true,
          "base_uri": "https://localhost:8080/"
        },
        "id": "2011c4ea",
        "outputId": "1f17004f-857f-4f87-c1bf-b17d2a649587"
      },
      "outputs": [
        {
          "output_type": "stream",
          "name": "stdout",
          "text": [
            "Epoch 1/10\n",
            "1875/1875 [==============================] - 6s 3ms/step - loss: 0.2766 - accuracy: 0.9221\n",
            "Epoch 2/10\n",
            "1875/1875 [==============================] - 5s 3ms/step - loss: 0.1254 - accuracy: 0.9633\n",
            "Epoch 3/10\n",
            "1875/1875 [==============================] - 5s 3ms/step - loss: 0.0874 - accuracy: 0.9740\n",
            "Epoch 4/10\n",
            "1875/1875 [==============================] - 6s 3ms/step - loss: 0.0669 - accuracy: 0.9798\n",
            "Epoch 5/10\n",
            " 724/1875 [==========>...................] - ETA: 3s - loss: 0.0506 - accuracy: 0.9852"
          ]
        }
      ],
      "source": [
        "retea = keras.Sequential([\n",
        "    keras.layers.Flatten(input_shape = (28,28)),\n",
        "    keras.layers.Dense(100, activation='relu'),\n",
        "    keras.layers.Dense(10, activation='sigmoid')\n",
        "])\n",
        "retea.compile(optimizer='adam', loss='sparse_categorical_crossentropy', metrics=['accuracy'])\n",
        "retea.fit(X_train, y_train, epochs=10)"
      ],
      "id": "2011c4ea"
    },
    {
      "cell_type": "code",
      "execution_count": null,
      "metadata": {
        "colab": {
          "background_save": true
        },
        "id": "52765284"
      },
      "outputs": [],
      "source": [
        "retea.evaluate(X_test, y_test)"
      ],
      "id": "52765284"
    }
  ],
  "metadata": {
    "colab": {
      "provenance": [],
      "include_colab_link": true
    },
    "kernelspec": {
      "display_name": "Python 3.10.8 64-bit",
      "language": "python",
      "name": "python3"
    },
    "language_info": {
      "codemirror_mode": {
        "name": "ipython",
        "version": 3
      },
      "file_extension": ".py",
      "mimetype": "text/x-python",
      "name": "python",
      "nbconvert_exporter": "python",
      "pygments_lexer": "ipython3",
      "version": "3.10.8"
    },
    "vscode": {
      "interpreter": {
        "hash": "14aa31811a0d9cb16d6d32b923a5f8d7c03d7d072066ad1571df9a9e7223221a"
      }
    }
  },
  "nbformat": 4,
  "nbformat_minor": 5
}